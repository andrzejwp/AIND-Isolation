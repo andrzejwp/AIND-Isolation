{
 "cells": [
  {
   "cell_type": "code",
   "execution_count": 25,
   "metadata": {
    "collapsed": false,
    "deletable": true,
    "editable": true,
    "nbpresent": {
     "id": "4e9c22b0-2839-4b6c-896b-6c836cd9d510"
    }
   },
   "outputs": [],
   "source": [
    "# Visualize the results of tournament\n",
    "%matplotlib inline\n",
    "\n",
    "import matplotlib\n",
    "import matplotlib.pyplot as plt\n",
    "import numpy as np\n",
    "import pandas as pd\n",
    "from scipy import stats\n",
    "df = pd.read_csv('new_results.tsv', sep='|',)\n",
    "\n",
    "#df.plot(xticks=range(0,20))"
   ]
  },
  {
   "cell_type": "code",
   "execution_count": 29,
   "metadata": {
    "collapsed": false,
    "deletable": true,
    "editable": true
   },
   "outputs": [
    {
     "name": "stdout",
     "output_type": "stream",
     "text": [
      "\\begin{tabular}{lrrrr}\n",
      "\\toprule\n",
      "{} &  AB\\_Improved &  AB\\_Custom &  AB\\_Custom\\_2 &  AB\\_Custom\\_3 \\\\\n",
      "\\midrule\n",
      "0  &         52.9 &       60.0 &         61.4 &         60.0 \\\\\n",
      "1  &         61.4 &       57.1 &         67.1 &         55.7 \\\\\n",
      "2  &         67.1 &       62.9 &         70.0 &         55.7 \\\\\n",
      "3  &         61.4 &       65.7 &         64.3 &         50.0 \\\\\n",
      "4  &         61.4 &       54.3 &         60.0 &         57.1 \\\\\n",
      "5  &         68.6 &       64.3 &         64.3 &         64.3 \\\\\n",
      "6  &         70.0 &       65.7 &         74.3 &         62.9 \\\\\n",
      "7  &         65.7 &       62.9 &         61.4 &         64.3 \\\\\n",
      "8  &         67.1 &       60.0 &         64.3 &         55.7 \\\\\n",
      "9  &         67.1 &       57.1 &         54.3 &         58.6 \\\\\n",
      "10 &         67.1 &       57.1 &         62.9 &         58.6 \\\\\n",
      "11 &         62.9 &       62.9 &         55.7 &         55.7 \\\\\n",
      "12 &         64.3 &       67.1 &         58.6 &         52.9 \\\\\n",
      "13 &         71.4 &       61.4 &         58.6 &         60.0 \\\\\n",
      "14 &         67.1 &       61.4 &         67.1 &         64.3 \\\\\n",
      "15 &         60.0 &       61.4 &         58.6 &         61.4 \\\\\n",
      "16 &         54.3 &       58.6 &         60.0 &         60.0 \\\\\n",
      "17 &         61.4 &       65.7 &         64.3 &         55.7 \\\\\n",
      "18 &         64.3 &       68.6 &         70.0 &         65.7 \\\\\n",
      "19 &         61.4 &       60.0 &         70.0 &         64.3 \\\\\n",
      "\\bottomrule\n",
      "\\end{tabular}\n",
      "\n",
      "\\begin{tabular}{lrrrr}\n",
      "\\toprule\n",
      "{} &  AB\\_Improved &  AB\\_Custom &  AB\\_Custom\\_2 &  AB\\_Custom\\_3 \\\\\n",
      "\\midrule\n",
      "count &    20.000000 &  20.000000 &    20.000000 &    20.000000 \\\\\n",
      "mean  &    63.845000 &  61.710000 &    63.360000 &    59.145000 \\\\\n",
      "std   &     4.762073 &   3.788056 &     5.244887 &     4.337047 \\\\\n",
      "min   &    52.900000 &  54.300000 &    54.300000 &    50.000000 \\\\\n",
      "25\\%   &    61.400000 &  59.650000 &    59.650000 &    55.700000 \\\\\n",
      "50\\%   &    64.300000 &  61.400000 &    63.600000 &    59.300000 \\\\\n",
      "75\\%   &    67.100000 &  64.650000 &    67.100000 &    63.250000 \\\\\n",
      "max   &    71.400000 &  68.600000 &    74.300000 &    65.700000 \\\\\n",
      "\\bottomrule\n",
      "\\end{tabular}\n",
      "\n"
     ]
    },
    {
     "data": {
      "text/plain": [
       "<matplotlib.figure.Figure at 0x7fef2fec7cf8>"
      ]
     },
     "metadata": {},
     "output_type": "display_data"
    },
    {
     "data": {
      "image/png": "[encoded data removed]",
      "text/plain": [
       "<matplotlib.figure.Figure at 0x7fef2f9a3f28>"
      ]
     },
     "metadata": {},
     "output_type": "display_data"
    }
   ],
   "source": [
    "\n",
    "df_diffs = pd.DataFrame()\n",
    "\n",
    "df_diffs['Custom vs Improved'] = df['AB_Improved'] - df['AB_Custom']\n",
    "df_diffs['Custom_2 vs Improved'] = df['AB_Improved'] - df['AB_Custom_2']\n",
    "df_diffs['Custom_3 vs Improved'] = df['AB_Improved'] - df['AB_Custom_3']\n",
    "\n",
    "\n",
    "print(df.to_latex())\n",
    "print(df.describe().to_latex())\n",
    "#print(df_diffs.to_latex())\n",
    "plt.figure()\n",
    "df.plot.box()\n",
    "plt.savefig(\"boxplot.eps\", format='eps')"
   ]
  },
  {
   "cell_type": "code",
   "execution_count": 18,
   "metadata": {
    "collapsed": false,
    "scrolled": true
   },
   "outputs": [
    {
     "name": "stdout",
     "output_type": "stream",
     "text": [
      "h0 is that AB_Improved has the same performance as AB_Custom\n",
      "h0 accepted - AB_Improved does have the same performance as AB_Custom\n",
      "h0 is that AB_Improved has the same performance as AB_Custom_2\n",
      "h0 accepted - AB_Improved does have the same performance as AB_Custom_2\n",
      "h0 is that AB_Improved has the same performance as AB_Custom_3\n",
      "h0 rejected - AB_Improved does not have the same performance as AB_Custom_3\n"
     ]
    }
   ],
   "source": [
    "print(\"h0 is that AB_Improved has the same performance as AB_Custom\")\n",
    "\n",
    "[stat,pvalue] = stats.ttest_ind(df['AB_Improved'], df['AB_Custom'], 0)   \n",
    "if(pvalue < 0.05):\n",
    "    print('h0 rejected - AB_Improved does not have the same performance as AB_Custom')\n",
    "else:\n",
    "    print('h0 accepted - AB_Improved does have the same performance as AB_Custom')\n",
    "\n",
    "print(\"h0 is that AB_Improved has the same performance as AB_Custom_2\")\n",
    "[stat,pvalue] = stats.ttest_ind(df['AB_Improved'], df['AB_Custom_2'], 0)   \n",
    "if(pvalue < 0.05):\n",
    "    print('h0 rejected - AB_Improved does not have the same performance as AB_Custom_2')\n",
    "else:\n",
    "    print('h0 accepted - AB_Improved does have the same performance as AB_Custom_2')\n",
    "\n",
    "print(\"h0 is that AB_Improved has the same performance as AB_Custom_3\")\n",
    "[stat,pvalue] = stats.ttest_ind(df['AB_Improved'], df['AB_Custom_3'], 0)   \n",
    "if(pvalue < 0.05):\n",
    "    print('h0 rejected - AB_Improved does not have the same performance as AB_Custom_3')\n",
    "else:\n",
    "    print('h0 accepted - AB_Improved does have the same performance as AB_Custom_3')"
   ]
  },
  {
   "cell_type": "code",
   "execution_count": 15,
   "metadata": {
    "collapsed": false
   },
   "outputs": [
    {
     "name": "stdout",
     "output_type": "stream",
     "text": [
      "h0 is that AB_Improved has the same performance as AB_Custom_2\n",
      "h0 accepted - AB_Improved does have the same performance as AB_Custom_2\n"
     ]
    }
   ],
   "source": []
  },
  {
   "cell_type": "code",
   "execution_count": 17,
   "metadata": {
    "collapsed": false
   },
   "outputs": [
    {
     "name": "stdout",
     "output_type": "stream",
     "text": [
      "h0 is that AB_Improved has the same performance as AB_Custom_3\n",
      "h0 rejected - AB_Improved does not have the same performance as AB_Custom_3\n"
     ]
    }
   ],
   "source": []
  }
 ],
 "metadata": {
  "kernelspec": {
   "display_name": "Python [conda env:aind]",
   "language": "python",
   "name": "conda-env-aind-py"
  },
  "language_info": {
   "codemirror_mode": {
    "name": "ipython",
    "version": 3
   },
   "file_extension": ".py",
   "mimetype": "text/x-python",
   "name": "python",
   "nbconvert_exporter": "python",
   "pygments_lexer": "ipython3",
   "version": "3.6.0"
  }
 },
 "nbformat": 4,
 "nbformat_minor": 2
}
